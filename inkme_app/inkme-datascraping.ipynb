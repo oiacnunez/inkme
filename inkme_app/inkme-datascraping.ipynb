{
 "cells": [
  {
   "cell_type": "markdown",
   "id": "bd71a005",
   "metadata": {},
   "source": [
    "# inkme_datascraping"
   ]
  },
  {
   "cell_type": "markdown",
   "id": "00739192",
   "metadata": {},
   "source": [
    "We will start the project by scraping the tattoo images from a repository in order to create our dataset. We will do this using Selenium in the Tattoodo website. Similar will be done for the tattoo artist database."
   ]
  },
  {
   "cell_type": "markdown",
   "id": "954c28c2",
   "metadata": {},
   "source": [
    "## Tattoo image repository"
   ]
  },
  {
   "cell_type": "code",
   "execution_count": 1,
   "id": "5765efc5",
   "metadata": {},
   "outputs": [],
   "source": [
    "import pandas as pd\n",
    "import numpy as np\n",
    "\n",
    "# This is the library that we will use to create break times in order to mimic human behaviour \n",
    "import time\n",
    "\n",
    "# These are the classes we will use for interaction with a webpage\n",
    "from selenium import webdriver\n",
    "from selenium.webdriver.common.keys import Keys\n",
    "from selenium.webdriver.common.by import By\n",
    "from selenium.webdriver.chrome.service import Service\n",
    "from webdriver_manager.chrome import ChromeDriverManager\n",
    "\n",
    "# This library is used for interacting with the operating system\n",
    "import os"
   ]
  },
  {
   "cell_type": "markdown",
   "id": "c82cb23b",
   "metadata": {},
   "source": [
    "Using Selenium with this website was trickier than I initially thought, so I've collected the URLs needed for each style separately."
   ]
  },
  {
   "cell_type": "markdown",
   "id": "6e1bbd7e",
   "metadata": {},
   "source": [
    "### Watercolor"
   ]
  },
  {
   "cell_type": "code",
   "execution_count": 52,
   "id": "7deb620e",
   "metadata": {},
   "outputs": [
    {
     "data": {
      "text/plain": [
       "2003"
      ]
     },
     "execution_count": 52,
     "metadata": {},
     "output_type": "execute_result"
    }
   ],
   "source": [
    "# Initiate the driver\n",
    "driver = webdriver.Chrome(ChromeDriverManager().install())\n",
    "\n",
    "# Navigate to the website\n",
    "url = \"https://www.tattoodo.com/tattoos?q=watercolor%20tattoo\"\n",
    "driver.get(url)\n",
    "\n",
    "images = set()\n",
    "\n",
    "# Scroll down the page in fixed intervals\n",
    "while True:\n",
    "    # Calculate the remaining height of the page\n",
    "    total_height = driver.execute_script(\"return document.body.scrollHeight\")\n",
    "    current_height = driver.execute_script(\"return window.pageYOffset + window.innerHeight\")\n",
    "    remaining_height = total_height - current_height\n",
    "    \n",
    "    # Scrape the images\n",
    "    image_tags = driver.find_elements_by_tag_name(\"img\")\n",
    "    for tag in image_tags:\n",
    "        images.add(tag.get_attribute(\"src\"))\n",
    "\n",
    "    # If there is no remaining height, exit the loop\n",
    "    if remaining_height == 0:\n",
    "        break\n",
    "\n",
    "    # Calculate the distance to scroll down\n",
    "    scroll_distance = remaining_height // 4\n",
    "\n",
    "    # Scroll down by the calculated distance\n",
    "    driver.execute_script(f\"window.scrollBy(0, {scroll_distance})\")\n",
    "\n",
    "    # Wait for new images to load\n",
    "    time.sleep(4)\n",
    "\n",
    "# Quit the driver\n",
    "driver.quit()\n",
    "\n",
    "# Check length of the images URLs\n",
    "len(images)"
   ]
  },
  {
   "cell_type": "code",
   "execution_count": null,
   "id": "0ce0247c",
   "metadata": {},
   "outputs": [],
   "source": [
    "# Putting everything in a dataframe and exporing a .csv with all the URLs\n",
    "\n",
    "image_dict = {'image_url': list(images)}\n",
    "watercolor = pd.DataFrame(image_dict)\n",
    "watercolor.to_csv('watercolor.csv', index=False)"
   ]
  },
  {
   "cell_type": "markdown",
   "id": "2b61be45",
   "metadata": {},
   "source": [
    "### Realism"
   ]
  },
  {
   "cell_type": "code",
   "execution_count": 66,
   "id": "2bbb0247",
   "metadata": {},
   "outputs": [
    {
     "data": {
      "text/plain": [
       "1917"
      ]
     },
     "execution_count": 66,
     "metadata": {},
     "output_type": "execute_result"
    }
   ],
   "source": [
    "# Navigate to the website\n",
    "url = \"https://www.tattoodo.com/tattoos?style=realism\"\n",
    "driver.get(url)\n",
    "\n",
    "realism = set()\n",
    "\n",
    "# Scroll down the page in fixed intervals\n",
    "while True:\n",
    "    # Calculate the remaining height of the page\n",
    "    total_height = driver.execute_script(\"return document.body.scrollHeight\")\n",
    "    current_height = driver.execute_script(\"return window.pageYOffset + window.innerHeight\")\n",
    "    remaining_height = total_height - current_height\n",
    "    \n",
    "    # Scrape the images\n",
    "    image_tags = driver.find_elements_by_tag_name(\"img\")\n",
    "    for tag in image_tags:\n",
    "        realism.add(tag.get_attribute(\"src\"))\n",
    "\n",
    "    # If there is no remaining height, exit the loop\n",
    "    if remaining_height == 0:\n",
    "        break\n",
    "\n",
    "    # Calculate the distance to scroll down\n",
    "    scroll_distance = remaining_height // 4\n",
    "\n",
    "    # Scroll down by the calculated distance\n",
    "    driver.execute_script(f\"window.scrollBy(0, {scroll_distance})\")\n",
    "\n",
    "    # Wait for new images to load\n",
    "    time.sleep(4)\n",
    "\n",
    "# Quit the driver\n",
    "driver.quit()\n",
    "\n",
    "# Check length of the images URLs\n",
    "len(realism)"
   ]
  },
  {
   "cell_type": "code",
   "execution_count": null,
   "id": "93e23734",
   "metadata": {},
   "outputs": [],
   "source": [
    "# Putting everything in a dataframe and exporing a .csv with all the URLs\n",
    "\n",
    "image_dict = {'image_url': list(realism)}\n",
    "realism = pd.DataFrame(image_dict)\n",
    "realism.to_csv('realism.csv', index=False)"
   ]
  },
  {
   "cell_type": "markdown",
   "id": "8fd468bb",
   "metadata": {},
   "source": [
    "### Blackwork"
   ]
  },
  {
   "cell_type": "code",
   "execution_count": 3,
   "id": "4d60d04a",
   "metadata": {},
   "outputs": [
    {
     "data": {
      "text/plain": [
       "1912"
      ]
     },
     "execution_count": 3,
     "metadata": {},
     "output_type": "execute_result"
    }
   ],
   "source": [
    "## Navigate to the website\n",
    "\n",
    "url = \"https://www.tattoodo.com/tattoos?style=blackwork\"\n",
    "driver.get(url)\n",
    "\n",
    "blackwork = set()\n",
    "\n",
    "# Scroll down the page in fixed intervals\n",
    "while True:\n",
    "    # Calculate the remaining height of the page\n",
    "    total_height = driver.execute_script(\"return document.body.scrollHeight\")\n",
    "    current_height = driver.execute_script(\"return window.pageYOffset + window.innerHeight\")\n",
    "    remaining_height = total_height - current_height\n",
    "    \n",
    "    # Scrape the images\n",
    "    image_tags = driver.find_elements_by_tag_name(\"img\")\n",
    "    for tag in image_tags:\n",
    "        blackwork.add(tag.get_attribute(\"src\"))\n",
    "\n",
    "    # If there is no remaining height, exit the loop\n",
    "    if remaining_height == 0:\n",
    "        break\n",
    "\n",
    "    # Calculate the distance to scroll down\n",
    "    scroll_distance = remaining_height // 4\n",
    "\n",
    "    # Scroll down by the calculated distance\n",
    "    driver.execute_script(f\"window.scrollBy(0, {scroll_distance})\")\n",
    "\n",
    "    # Wait for new images to load\n",
    "    time.sleep(4)\n",
    "\n",
    "# Quit the driver\n",
    "driver.quit()\n",
    "\n",
    "# Check length of the images URLs\n",
    "len(blackwork)"
   ]
  },
  {
   "cell_type": "code",
   "execution_count": null,
   "id": "dc360bca",
   "metadata": {},
   "outputs": [],
   "source": [
    "# Putting everything in a dataframe and exporing a .csv with all the URLs\n",
    "\n",
    "image_dict = {'image_url': list(blackwork)}\n",
    "blackwork = pd.DataFrame(image_dict)\n",
    "blackwork.to_csv('blackwork.csv', index=False)"
   ]
  },
  {
   "cell_type": "markdown",
   "id": "d86b92a0",
   "metadata": {},
   "source": [
    "### Fineline"
   ]
  },
  {
   "cell_type": "code",
   "execution_count": 10,
   "id": "4229ab30",
   "metadata": {},
   "outputs": [
    {
     "data": {
      "text/plain": [
       "1926"
      ]
     },
     "execution_count": 10,
     "metadata": {},
     "output_type": "execute_result"
    }
   ],
   "source": [
    "# Navigate to the website\n",
    "url = \"https://www.tattoodo.com/tattoos?style=fine_line\"\n",
    "driver.get(url)\n",
    "\n",
    "fineline = set()\n",
    "\n",
    "# Scroll down the page in fixed intervals\n",
    "while True:\n",
    "    # Calculate the remaining height of the page\n",
    "    total_height = driver.execute_script(\"return document.body.scrollHeight\")\n",
    "    current_height = driver.execute_script(\"return window.pageYOffset + window.innerHeight\")\n",
    "    remaining_height = total_height - current_height\n",
    "    \n",
    "    # Scrape the images\n",
    "    image_tags = driver.find_elements_by_tag_name(\"img\")\n",
    "    for tag in image_tags:\n",
    "        fineline.add(tag.get_attribute(\"src\"))\n",
    "\n",
    "    # If there is no remaining height, exit the loop\n",
    "    if remaining_height == 0:\n",
    "        break\n",
    "\n",
    "    # Calculate the distance to scroll down\n",
    "    scroll_distance = remaining_height // 4\n",
    "\n",
    "    # Scroll down by the calculated distance\n",
    "    driver.execute_script(f\"window.scrollBy(0, {scroll_distance})\")\n",
    "\n",
    "    # Wait for new images to load\n",
    "    time.sleep(4)\n",
    "\n",
    "# Quit the driver\n",
    "driver.quit()\n",
    "\n",
    "# Check length of the images URLs\n",
    "len(fineline)"
   ]
  },
  {
   "cell_type": "code",
   "execution_count": null,
   "id": "8d341961",
   "metadata": {},
   "outputs": [],
   "source": [
    "# Putting everything in a dataframe and exporing a .csv with all the URLs\n",
    "\n",
    "image_dict = {'image_url': list(fineline)}\n",
    "fineline = pd.DataFrame(image_dict)\n",
    "fineline.to_csv('fineline.csv', index=False)"
   ]
  },
  {
   "cell_type": "markdown",
   "id": "19cefa79",
   "metadata": {},
   "source": [
    "## Tattoo artist database"
   ]
  },
  {
   "cell_type": "markdown",
   "id": "84dd0999",
   "metadata": {},
   "source": [
    "The tattoo artist database was obtained in a similar scraping process in the website Tattoos Wizard. Below I'll work with the .csv already assembled."
   ]
  },
  {
   "cell_type": "code",
   "execution_count": null,
   "id": "e1ae2d9b",
   "metadata": {},
   "outputs": [],
   "source": [
    "# Bringing the .csv with the tattoo artists and previewing it\n",
    "\n",
    "artists = pd.read_csv(\"/Users/caionunez/Desktop/tattooartistdbvfinal.csv\", sep=\";\")\n",
    "artists.head()"
   ]
  },
  {
   "cell_type": "code",
   "execution_count": null,
   "id": "b412cc02",
   "metadata": {},
   "outputs": [],
   "source": [
    "# Checking for null values\n",
    "\n",
    "artists.isnull().sum()"
   ]
  },
  {
   "cell_type": "code",
   "execution_count": null,
   "id": "69d92849",
   "metadata": {},
   "outputs": [],
   "source": [
    "# Doing some minor data prepraration and cleaning\n",
    "\n",
    "# Changing column Tag1 to Style\n",
    "artists[\"Style\"] = artists[\"Tag 1\"]\n",
    "artists.drop(columns = [\"Tag 1\"], inplace = True)\n",
    "\n",
    "# Replacing \"black&gray\" with \"blackwork\" in the Style column\n",
    "artists['Style'] = artists['Style'].str.replace('black&gray', 'blackwork')\n",
    "\n",
    "# Replacing \"black&gray\" in multiple styles\n",
    "artists['Style'] = artists['Style'].apply(lambda x: ', '.join(['blackwork' if s.strip() == 'black&gray' else s.strip() for s in x.split(',')]))\n",
    "\n",
    "# Replacing \"watercolour\" per \"watercolor\" in multiple styles\n",
    "artists['Style'] = artists['Style'].apply(lambda x: ', '.join(['watercolor' if s.strip() == 'watercolour' else s.strip() for s in x.split(',')]))\n",
    "\n",
    "# Capitalizing style names in Style column\n",
    "def capitalize_style(row):\n",
    "    styles = row['Style'].split(', ')\n",
    "    capitalized_styles = [s.capitalize() for s in styles]\n",
    "    return ', '.join(capitalized_styles)\n",
    "\n",
    "artists['Style'] = artists.apply(capitalize_style, axis=1)\n",
    "\n",
    "# Exporting the csv\n",
    "artists.to_csv(\"artist_dbfinal.csv\")"
   ]
  },
  {
   "cell_type": "code",
   "execution_count": null,
   "id": "067fe691",
   "metadata": {},
   "outputs": [],
   "source": [
    "# Creating function that will be used for presenting tattoo recommendations later on\n",
    "\n",
    "def get_artists(style, df):\n",
    "    style_mask = df['Style'].str.contains(style)\n",
    "    style_df = df[style_mask].sample(n=3)\n",
    "    return print(style_df.values)"
   ]
  }
 ],
 "metadata": {
  "kernelspec": {
   "display_name": "Python 3 (ipykernel)",
   "language": "python",
   "name": "python3"
  },
  "language_info": {
   "codemirror_mode": {
    "name": "ipython",
    "version": 3
   },
   "file_extension": ".py",
   "mimetype": "text/x-python",
   "name": "python",
   "nbconvert_exporter": "python",
   "pygments_lexer": "ipython3",
   "version": "3.9.13"
  }
 },
 "nbformat": 4,
 "nbformat_minor": 5
}
