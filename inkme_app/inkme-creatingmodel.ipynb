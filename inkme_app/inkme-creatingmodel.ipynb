{
 "cells": [
  {
   "cell_type": "markdown",
   "id": "adc47797",
   "metadata": {},
   "source": [
    "# inkme_creatingmodel"
   ]
  },
  {
   "cell_type": "markdown",
   "id": "87cdcfdb",
   "metadata": {},
   "source": [
    "Finally we will use Keras to create the model that will do the predictions. We will start creating a first test model to confirm the code is working and to serve as baseline."
   ]
  },
  {
   "cell_type": "code",
   "execution_count": 1,
   "id": "8427ca3b",
   "metadata": {},
   "outputs": [
    {
     "name": "stderr",
     "output_type": "stream",
     "text": [
      "2023-03-13 12:26:44.989802: I tensorflow/core/platform/cpu_feature_guard.cc:193] This TensorFlow binary is optimized with oneAPI Deep Neural Network Library (oneDNN) to use the following CPU instructions in performance-critical operations:  SSE4.1 SSE4.2\n",
      "To enable them in other operations, rebuild TensorFlow with the appropriate compiler flags.\n"
     ]
    }
   ],
   "source": [
    "# Importing libraries\n",
    "\n",
    "import sys\n",
    "import matplotlib.pyplot as plt\n",
    "from keras.utils import to_categorical\n",
    "from keras.models import Sequential\n",
    "from keras.layers import Conv2D\n",
    "from keras.layers import MaxPooling2D\n",
    "from keras.layers import Dense\n",
    "from keras.layers import Flatten\n",
    "from keras.layers import Dropout\n",
    "from keras.optimizers import SGD\n",
    "from keras.preprocessing.image import ImageDataGenerator"
   ]
  },
  {
   "cell_type": "code",
   "execution_count": null,
   "id": "666fe051",
   "metadata": {},
   "outputs": [],
   "source": [
    "# Creating baseline model just to see if it works\n",
    " \n",
    "# Define cnn model\n",
    "\n",
    "def define_model():\n",
    "    model = Sequential()\n",
    "    model.add(Conv2D(32, (3, 3), activation='relu', kernel_initializer='he_uniform', padding='same', input_shape=(200, 200, 3)))\n",
    "    model.add(MaxPooling2D((2, 2)))\n",
    "    model.add(Flatten())\n",
    "    model.add(Dense(128, activation='relu', kernel_initializer='he_uniform'))\n",
    "    model.add(Dense(1, activation='sigmoid'))\n",
    "    # compile model\n",
    "    opt = SGD(lr=0.001, momentum=0.9)\n",
    "    model.compile(optimizer=opt, loss='binary_crossentropy', metrics=['accuracy'])\n",
    "    return model\n",
    " \n",
    "# Plot diagnostic learning curves\n",
    "\n",
    "def summarize_diagnostics(history):\n",
    "    # plot loss\n",
    "    plt.subplot(211)\n",
    "    plt.title('Cross Entropy Loss')\n",
    "    plt.plot(history.history['loss'], color='blue', label='train')\n",
    "    plt.plot(history.history['val_loss'], color='orange', label='test')\n",
    "    # plot accuracy\n",
    "    plt.subplot(212)\n",
    "    plt.title('Classification Accuracy')\n",
    "    plt.plot(history.history['accuracy'], color='blue', label='train')\n",
    "    plt.plot(history.history['val_accuracy'], color='orange', label='test')\n",
    "    # save plot to file\n",
    "    filename = sys.argv[0].split('/')[-1]\n",
    "    plt.savefig(filename + '_plot.png')\n",
    "    plt.close()\n",
    "\n",
    "# Run the test harness for evaluating a model\n",
    "\n",
    "def run_test_harness():\n",
    "    # define model\n",
    "    model = define_model()\n",
    "    # create data generator\n",
    "    datagen = ImageDataGenerator(rescale=1.0/255.0)\n",
    "    # prepare iterators\n",
    "    train_it = datagen.flow_from_directory('/Users/caionunez/Desktop/cnn_model/dataset/train',class_mode='binary', batch_size=64, target_size=(200, 200))\n",
    "    test_it = datagen.flow_from_directory('/Users/caionunez/Desktop/cnn_model/dataset/test',class_mode='binary', batch_size=64, target_size=(200, 200))\n",
    "    # fit model\n",
    "    history = model.fit_generator(train_it, steps_per_epoch=len(train_it),validation_data=test_it, validation_steps=len(test_it), epochs=20, verbose=0)\n",
    "    # evaluate model\n",
    "    _, acc = model.evaluate_generator(test_it, steps=len(test_it), verbose=0)\n",
    "    print('> %.3f' % (acc * 100.0))\n",
    "    # learning curves\n",
    "    summarize_diagnostics(history)\n",
    "\n",
    "# Entry point, run the test harness\n",
    "run_test_harness()"
   ]
  },
  {
   "cell_type": "markdown",
   "id": "c9a59ec3",
   "metadata": {},
   "source": [
    "### Final model"
   ]
  },
  {
   "cell_type": "markdown",
   "id": "ad634c79",
   "metadata": {},
   "source": [
    "After a lot of testing and tuning, some of the characteristics of the final model were:\n",
    "\n",
    "- Three block VGG\n",
    "- 25 epochs\n",
    "- Moderate data augmentation (widht shift, height shift and horizontal flip)"
   ]
  },
  {
   "cell_type": "code",
   "execution_count": null,
   "id": "d0f06f41",
   "metadata": {},
   "outputs": [],
   "source": [
    "# Define cnn model\n",
    "\n",
    "def define_model():\n",
    "    model = Sequential()\n",
    "    model.add(Conv2D(32, (3, 3), activation='relu', kernel_initializer='he_uniform', padding='same', input_shape=(200, 200, 3)))\n",
    "    model.add(MaxPooling2D((2, 2)))\n",
    "    model.add(Conv2D(64, (3, 3), activation='relu', kernel_initializer='he_uniform', padding='same'))\n",
    "    model.add(MaxPooling2D((2, 2)))\n",
    "    model.add(Conv2D(128, (3, 3), activation='relu', kernel_initializer='he_uniform', padding='same'))\n",
    "    model.add(MaxPooling2D((2, 2)))\n",
    "    model.add(Flatten())\n",
    "    model.add(Dense(128, activation='relu', kernel_initializer='he_uniform'))\n",
    "    model.add(Dense(4, activation='softmax'))\n",
    "    # compile model\n",
    "    opt = SGD(lr=0.001, momentum=0.9)\n",
    "    model.compile(optimizer=opt, loss='categorical_crossentropy', metrics=['accuracy'])\n",
    "    return model"
   ]
  },
  {
   "cell_type": "markdown",
   "id": "08fd0654",
   "metadata": {},
   "source": [
    "#### Testing with 25 epochs and basic data augmentation"
   ]
  },
  {
   "cell_type": "code",
   "execution_count": 35,
   "id": "86f1d741",
   "metadata": {},
   "outputs": [
    {
     "name": "stdout",
     "output_type": "stream",
     "text": [
      "Found 6076 images belonging to 4 classes.\n",
      "Found 1524 images belonging to 4 classes.\n",
      "Epoch 1/25\n"
     ]
    },
    {
     "name": "stderr",
     "output_type": "stream",
     "text": [
      "2023-03-12 21:53:33.701412: I tensorflow/core/grappler/optimizers/custom_graph_optimizer_registry.cc:114] Plugin optimizer for device_type GPU is enabled.\n"
     ]
    },
    {
     "name": "stdout",
     "output_type": "stream",
     "text": [
      "95/95 [==============================] - ETA: 0s - loss: 1.5103 - accuracy: 0.3065"
     ]
    },
    {
     "name": "stderr",
     "output_type": "stream",
     "text": [
      "2023-03-12 21:54:19.936624: I tensorflow/core/grappler/optimizers/custom_graph_optimizer_registry.cc:114] Plugin optimizer for device_type GPU is enabled.\n"
     ]
    },
    {
     "name": "stdout",
     "output_type": "stream",
     "text": [
      "95/95 [==============================] - 49s 512ms/step - loss: 1.5103 - accuracy: 0.3065 - val_loss: 1.3473 - val_accuracy: 0.3058\n",
      "Epoch 2/25\n",
      "95/95 [==============================] - 49s 517ms/step - loss: 1.3153 - accuracy: 0.3876 - val_loss: 1.2709 - val_accuracy: 0.4331\n",
      "Epoch 3/25\n",
      "95/95 [==============================] - 49s 518ms/step - loss: 1.2729 - accuracy: 0.4320 - val_loss: 1.2321 - val_accuracy: 0.4639\n",
      "Epoch 4/25\n",
      "95/95 [==============================] - 53s 559ms/step - loss: 1.2157 - accuracy: 0.4689 - val_loss: 1.1696 - val_accuracy: 0.5013\n",
      "Epoch 5/25\n",
      "95/95 [==============================] - 57s 598ms/step - loss: 1.1792 - accuracy: 0.4837 - val_loss: 1.1843 - val_accuracy: 0.4652\n",
      "Epoch 6/25\n",
      "95/95 [==============================] - 57s 595ms/step - loss: 1.1462 - accuracy: 0.5007 - val_loss: 1.1203 - val_accuracy: 0.5072\n",
      "Epoch 7/25\n",
      "95/95 [==============================] - 57s 595ms/step - loss: 1.1170 - accuracy: 0.5133 - val_loss: 1.1053 - val_accuracy: 0.5328\n",
      "Epoch 8/25\n",
      "95/95 [==============================] - 58s 604ms/step - loss: 1.0984 - accuracy: 0.5204 - val_loss: 1.1012 - val_accuracy: 0.5433\n",
      "Epoch 9/25\n",
      "95/95 [==============================] - 58s 602ms/step - loss: 1.0909 - accuracy: 0.5165 - val_loss: 1.0847 - val_accuracy: 0.5354\n",
      "Epoch 10/25\n",
      "95/95 [==============================] - 59s 623ms/step - loss: 1.0784 - accuracy: 0.5283 - val_loss: 1.0680 - val_accuracy: 0.5394\n",
      "Epoch 11/25\n",
      "95/95 [==============================] - 60s 628ms/step - loss: 1.0654 - accuracy: 0.5357 - val_loss: 1.0560 - val_accuracy: 0.5472\n",
      "Epoch 12/25\n",
      "95/95 [==============================] - 60s 628ms/step - loss: 1.0506 - accuracy: 0.5410 - val_loss: 1.0520 - val_accuracy: 0.5472\n",
      "Epoch 13/25\n",
      "95/95 [==============================] - 59s 618ms/step - loss: 1.0328 - accuracy: 0.5520 - val_loss: 1.0561 - val_accuracy: 0.5427\n",
      "Epoch 14/25\n",
      "95/95 [==============================] - 59s 619ms/step - loss: 1.0300 - accuracy: 0.5481 - val_loss: 1.0355 - val_accuracy: 0.5525\n",
      "Epoch 15/25\n",
      "95/95 [==============================] - 60s 626ms/step - loss: 1.0170 - accuracy: 0.5571 - val_loss: 1.0347 - val_accuracy: 0.5656\n",
      "Epoch 16/25\n",
      "95/95 [==============================] - 60s 629ms/step - loss: 1.0096 - accuracy: 0.5625 - val_loss: 1.0365 - val_accuracy: 0.5571\n",
      "Epoch 17/25\n",
      "95/95 [==============================] - 61s 638ms/step - loss: 1.0066 - accuracy: 0.5650 - val_loss: 1.0353 - val_accuracy: 0.5466\n",
      "Epoch 18/25\n",
      "95/95 [==============================] - 61s 635ms/step - loss: 0.9970 - accuracy: 0.5685 - val_loss: 1.0400 - val_accuracy: 0.5577\n",
      "Epoch 19/25\n",
      "95/95 [==============================] - 60s 626ms/step - loss: 0.9911 - accuracy: 0.5675 - val_loss: 1.0507 - val_accuracy: 0.5492\n",
      "Epoch 20/25\n",
      "95/95 [==============================] - 60s 625ms/step - loss: 0.9871 - accuracy: 0.5680 - val_loss: 1.0417 - val_accuracy: 0.5564\n",
      "Epoch 21/25\n",
      "95/95 [==============================] - 60s 625ms/step - loss: 0.9845 - accuracy: 0.5676 - val_loss: 1.0134 - val_accuracy: 0.5702\n",
      "Epoch 22/25\n",
      "95/95 [==============================] - 60s 625ms/step - loss: 0.9919 - accuracy: 0.5617 - val_loss: 1.0001 - val_accuracy: 0.5794\n",
      "Epoch 23/25\n",
      "95/95 [==============================] - 60s 627ms/step - loss: 0.9732 - accuracy: 0.5759 - val_loss: 1.0125 - val_accuracy: 0.5761\n",
      "Epoch 24/25\n",
      "95/95 [==============================] - 59s 621ms/step - loss: 0.9689 - accuracy: 0.5764 - val_loss: 1.0041 - val_accuracy: 0.5814\n",
      "Epoch 25/25\n",
      "95/95 [==============================] - 60s 632ms/step - loss: 0.9670 - accuracy: 0.5769 - val_loss: 1.0188 - val_accuracy: 0.5669\n",
      "24/24 [==============================] - 3s 128ms/step - loss: 1.0188 - accuracy: 0.5669\n",
      "Loss is :  1.0187972784042358 and Accuracy is:  > 56.693\n"
     ]
    }
   ],
   "source": [
    "# Running with 25 epochs and basic data augmentation\n",
    "\n",
    "# define model\n",
    "model = define_model()\n",
    "# create data generators\n",
    "train_datagen = ImageDataGenerator(rescale=1.0/255.0,width_shift_range=0.1, height_shift_range=0.1, horizontal_flip=True)\n",
    "test_datagen = ImageDataGenerator(rescale=1.0/255.0)\n",
    "# prepare iterators\n",
    "train_it = train_datagen.flow_from_directory('/Users/caionunez/Desktop/cnn_model/dataset/train', class_mode='categorical', batch_size=64, target_size=(200, 200))\n",
    "test_it = test_datagen.flow_from_directory('/Users/caionunez/Desktop/cnn_model/dataset/test', class_mode='categorical', batch_size=64, target_size=(200, 200))\n",
    "# fit model\n",
    "history = model.fit(train_it, steps_per_epoch=len(train_it), validation_data=test_it, validation_steps=len(test_it), epochs=25, verbose=1)\n",
    "# evaluate model\n",
    "loss, acc = model.evaluate(test_it, steps=len(test_it), verbose=1)\n",
    "print(\"Loss is : \", loss, \"and\", \"Accuracy is: \",'> %.3f' % (acc * 100.0))"
   ]
  },
  {
   "cell_type": "code",
   "execution_count": 36,
   "id": "856f94c2",
   "metadata": {},
   "outputs": [
    {
     "name": "stdout",
     "output_type": "stream",
     "text": [
      "95/95 [==============================] - 45s 471ms/step - loss: 0.9688 - accuracy: 0.5765\n",
      "Training Loss is :  0.968762993812561 Training Accuracy is:  > 57.653\n"
     ]
    }
   ],
   "source": [
    "train_loss, train_acc = model.evaluate(train_it, steps=len(train_it), verbose=1)\n",
    "print(\"Training Loss is : \", train_loss, \"Training Accuracy is: \",'> %.3f' % (train_acc * 100.0))"
   ]
  },
  {
   "cell_type": "code",
   "execution_count": 37,
   "id": "3c6c2dd2",
   "metadata": {},
   "outputs": [
    {
     "data": {
      "image/png": "[encoded data removed]",
      "text/plain": [
       "<Figure size 640x480 with 2 Axes>"
      ]
     },
     "metadata": {},
     "output_type": "display_data"
    }
   ],
   "source": [
    "# Plotting the model's performance\n",
    "\n",
    "plt.subplot(211)\n",
    "plt.title('Cross Entropy Loss')\n",
    "plt.plot(history.history['loss'], color='blue', label='train')\n",
    "plt.plot(history.history['val_loss'], color='orange', label='test')\n",
    "# plot accuracy\n",
    "plt.subplot(212)\n",
    "plt.title('Classification Accuracy')\n",
    "plt.plot(history.history['accuracy'], color='blue', label='train')\n",
    "plt.plot(history.history['val_accuracy'], color='orange', label='test')\n",
    "plt.show()"
   ]
  },
  {
   "cell_type": "code",
   "execution_count": null,
   "id": "65a292f7",
   "metadata": {},
   "outputs": [],
   "source": [
    "# Saving this one with 25 epochs and basic data augmentation\n",
    "\n",
    "model.save(\"/inkme/model\")"
   ]
  }
 ],
 "metadata": {
  "kernelspec": {
   "display_name": "Python 3.10 (tensorflow)",
   "language": "python",
   "name": "tensorflow"
  },
  "language_info": {
   "codemirror_mode": {
    "name": "ipython",
    "version": 3
   },
   "file_extension": ".py",
   "mimetype": "text/x-python",
   "name": "python",
   "nbconvert_exporter": "python",
   "pygments_lexer": "ipython3",
   "version": "3.10.9"
  }
 },
 "nbformat": 4,
 "nbformat_minor": 5
}
