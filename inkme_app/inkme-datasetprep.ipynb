{
 "cells": [
  {
   "cell_type": "markdown",
   "id": "50edf54e",
   "metadata": {},
   "source": [
    "# inkme_dataset prep"
   ]
  },
  {
   "cell_type": "markdown",
   "id": "62116cf6",
   "metadata": {},
   "source": [
    "After having scraped the images, we need to prepare the data set to train the model. This will be done in two steps:\n",
    "\n",
    "- Separating the data into train and test data\n",
    "- Downloading/resizing them accordingly\n"
   ]
  },
  {
   "cell_type": "markdown",
   "id": "f06722b4",
   "metadata": {},
   "source": [
    "## Train test split"
   ]
  },
  {
   "cell_type": "code",
   "execution_count": 1,
   "id": "e34a9f35",
   "metadata": {},
   "outputs": [],
   "source": [
    "# Importing libraries needed\n",
    "\n",
    "import pandas as pd\n",
    "import numpy as np\n",
    "from sklearn.model_selection import train_test_split"
   ]
  },
  {
   "cell_type": "code",
   "execution_count": 2,
   "id": "12342147",
   "metadata": {},
   "outputs": [],
   "source": [
    "# Read each style csv file with the URLs and split them into train and test\n",
    "\n",
    "# Watercolor\n",
    "\n",
    "watercolor = pd.read_csv('/Users/caionunez/Desktop/watercolor.csv')\n",
    "\n",
    "# Split the data into train and test sets\n",
    "watercolor_train, watercolor_test = train_test_split(watercolor, test_size=0.2, random_state=42)\n",
    "\n",
    "# Save the train and test sets to separate csv files\n",
    "watercolor_train.to_csv('watercolortrain.csv', index=False)\n",
    "watercolor_test.to_csv('watercolortest.csv', index=False)"
   ]
  },
  {
   "cell_type": "code",
   "execution_count": null,
   "id": "c244e341",
   "metadata": {},
   "outputs": [],
   "source": [
    "# Realism\n",
    "\n",
    "realism = pd.read_csv('/Users/caionunez/Desktop/realism.csv')\n",
    "\n",
    "# Split the data into train and test sets\n",
    "realism_train, realism_test = train_test_split(realism, test_size=0.2, random_state=42)\n",
    "\n",
    "# Save the train and test sets to separate csv files\n",
    "realism_train.to_csv('realismtrain.csv', index=False)\n",
    "realism_test.to_csv('realismtest.csv', index=False)"
   ]
  },
  {
   "cell_type": "code",
   "execution_count": 13,
   "id": "97929500",
   "metadata": {},
   "outputs": [],
   "source": [
    "# Blackwork\n",
    "\n",
    "blackwork = pd.read_csv('/Users/caionunez/Desktop/blackwork.csv')\n",
    "\n",
    "# Split the data into train and test sets\n",
    "blackwork_train, blackwork_test = train_test_split(blackwork, test_size=0.2, random_state=42)\n",
    "\n",
    "# Save the train and test sets to separate csv files\n",
    "blackwork_train.to_csv('blackworktrain.csv', index=False)\n",
    "blackwork_test.to_csv('blackworktest.csv', index=False)"
   ]
  },
  {
   "cell_type": "code",
   "execution_count": 19,
   "id": "d3c89e9b",
   "metadata": {},
   "outputs": [],
   "source": [
    "# Fineline\n",
    "\n",
    "fineline = pd.read_csv('/Users/caionunez/Desktop/fineline.csv')\n",
    "\n",
    "# Split the data into train and test sets\n",
    "fineline_train, fineline_test = train_test_split(fineline, test_size=0.2, random_state=42)\n",
    "\n",
    "# Save the train and test sets to separate csv files\n",
    "fineline_train.to_csv('finelinetrain.csv', index=False)\n",
    "fineline_test.to_csv('finelinetest.csv', index=False)"
   ]
  },
  {
   "cell_type": "code",
   "execution_count": 22,
   "id": "d5f608da",
   "metadata": {},
   "outputs": [
    {
     "name": "stdout",
     "output_type": "stream",
     "text": [
      "Watercolor train pictures 1602\n",
      "Watercolor test pictures 401\n",
      "Realism train pictures 1533\n",
      "Realism test pictures 384\n",
      "Blackwork train pictures 1529\n",
      "Blackwork test pictures 383\n",
      "Fineline train pictures 1540\n",
      "Fineline test pictures 386\n"
     ]
    }
   ],
   "source": [
    "# Printing the lenght of all 8 train/test csvs\n",
    "\n",
    "print(\"Watercolor train pictures\", len(watercolor_train))\n",
    "print(\"Watercolor test pictures\", len(watercolor_test))\n",
    "print(\"Realism train pictures\", len(realism_train))\n",
    "print(\"Realism test pictures\", len(realism_test))\n",
    "print(\"Blackwork train pictures\", len(blackwork_train))\n",
    "print(\"Blackwork test pictures\", len(blackwork_test))\n",
    "print(\"Fineline train pictures\", len(fineline_train))\n",
    "print(\"Fineline test pictures\", len(fineline_test))"
   ]
  },
  {
   "cell_type": "markdown",
   "id": "e66b44a0",
   "metadata": {},
   "source": [
    "## Download and resizing"
   ]
  },
  {
   "cell_type": "code",
   "execution_count": null,
   "id": "47df5f48",
   "metadata": {},
   "outputs": [],
   "source": [
    "# Importing libraries needed for this step\n",
    "\n",
    "import os\n",
    "import urllib.request\n",
    "from PIL import Image"
   ]
  },
  {
   "cell_type": "code",
   "execution_count": 25,
   "id": "d59d8f63",
   "metadata": {},
   "outputs": [],
   "source": [
    "# Define function to download and resize image\n",
    "\n",
    "def download_resize_image(url, filename):\n",
    "    try:\n",
    "        # Download image from URL\n",
    "        urllib.request.urlretrieve(url, filename)\n",
    "\n",
    "        # Open downloaded image\n",
    "        image = Image.open(filename)\n",
    "\n",
    "        # Resize image to 200x200\n",
    "        resized_image = image.resize((200, 200))\n",
    "\n",
    "        # Save resized image\n",
    "        resized_image.save(filename)\n",
    "        \n",
    "    except:\n",
    "        print(f'Error downloading or resizing {filename}')"
   ]
  },
  {
   "cell_type": "markdown",
   "id": "da729dd2",
   "metadata": {},
   "source": [
    "### Watercolor"
   ]
  },
  {
   "cell_type": "code",
   "execution_count": 26,
   "id": "3e1e7a67",
   "metadata": {},
   "outputs": [
    {
     "name": "stdout",
     "output_type": "stream",
     "text": [
      "Error downloading or resizing /Users/caionunez/Desktop/cnn_model/dataset/train/watercolor/879.jpg\n",
      "Error downloading or resizing /Users/caionunez/Desktop/cnn_model/dataset/train/watercolor/341.jpg\n",
      "Error downloading or resizing /Users/caionunez/Desktop/cnn_model/dataset/train/watercolor/516.jpg\n",
      "Error downloading or resizing /Users/caionunez/Desktop/cnn_model/dataset/train/watercolor/1345.jpg\n",
      "Error downloading or resizing /Users/caionunez/Desktop/cnn_model/dataset/train/watercolor/139.jpg\n",
      "Error downloading or resizing /Users/caionunez/Desktop/cnn_model/dataset/train/watercolor/714.jpg\n",
      "Error downloading or resizing /Users/caionunez/Desktop/cnn_model/dataset/train/watercolor/1108.jpg\n",
      "Error downloading or resizing /Users/caionunez/Desktop/cnn_model/dataset/train/watercolor/739.jpg\n",
      "Error downloading or resizing /Users/caionunez/Desktop/cnn_model/dataset/train/watercolor/875.jpg\n",
      "Error downloading or resizing /Users/caionunez/Desktop/cnn_model/dataset/train/watercolor/784.jpg\n",
      "Error downloading or resizing /Users/caionunez/Desktop/cnn_model/dataset/train/watercolor/16.jpg\n",
      "Error downloading or resizing /Users/caionunez/Desktop/cnn_model/dataset/train/watercolor/1838.jpg\n",
      "Error downloading or resizing /Users/caionunez/Desktop/cnn_model/dataset/train/watercolor/1903.jpg\n"
     ]
    }
   ],
   "source": [
    "# Watercolor train\n",
    "\n",
    "# Loop through each row in the csv file\n",
    "for index, row in watercolor_train.iterrows():\n",
    "    \n",
    "    # Get the URL and tattoo style from the row\n",
    "    url = row['image_url']\n",
    "\n",
    "    # Create directory for the current style if it does not exist\n",
    "    style_dir = \"/Users/caionunez/Desktop/cnn_model/dataset/train/watercolor\"\n",
    "\n",
    "    # Get the filename for the downloaded image\n",
    "    filename = f'{style_dir}/{index}.jpg'\n",
    "\n",
    "    # Download and resize the image\n",
    "    download_resize_image(url, filename)"
   ]
  },
  {
   "cell_type": "code",
   "execution_count": 27,
   "id": "f1c7dd6e",
   "metadata": {},
   "outputs": [
    {
     "name": "stdout",
     "output_type": "stream",
     "text": [
      "Error downloading or resizing /Users/caionunez/Desktop/cnn_model/dataset/test/watercolor/1268.jpg\n",
      "Error downloading or resizing /Users/caionunez/Desktop/cnn_model/dataset/test/watercolor/239.jpg\n",
      "Error downloading or resizing /Users/caionunez/Desktop/cnn_model/dataset/test/watercolor/1005.jpg\n"
     ]
    }
   ],
   "source": [
    "# Watercolor test\n",
    "\n",
    "# Loop through each row in the csv file\n",
    "for index, row in watercolor_test.iterrows():\n",
    "    \n",
    "    # Get the URL and tattoo style from the row\n",
    "    url = row['image_url']\n",
    "\n",
    "    # Create directory for the current style if it does not exist\n",
    "    style_dir = \"/Users/caionunez/Desktop/cnn_model/dataset/test/watercolor\"\n",
    "\n",
    "    # Get the filename for the downloaded image\n",
    "    filename = f'{style_dir}/{index}.jpg'\n",
    "\n",
    "    # Download and resize the image\n",
    "    download_resize_image(url, filename)"
   ]
  },
  {
   "cell_type": "markdown",
   "id": "52ac7221",
   "metadata": {},
   "source": [
    "### Realism"
   ]
  },
  {
   "cell_type": "code",
   "execution_count": 28,
   "id": "e1ecab20",
   "metadata": {},
   "outputs": [
    {
     "name": "stdout",
     "output_type": "stream",
     "text": [
      "Error downloading or resizing /Users/caionunez/Desktop/cnn_model/dataset/train/realism/494.jpg\n",
      "Error downloading or resizing /Users/caionunez/Desktop/cnn_model/dataset/train/realism/1789.jpg\n",
      "Error downloading or resizing /Users/caionunez/Desktop/cnn_model/dataset/train/realism/334.jpg\n",
      "Error downloading or resizing /Users/caionunez/Desktop/cnn_model/dataset/train/realism/620.jpg\n",
      "Error downloading or resizing /Users/caionunez/Desktop/cnn_model/dataset/train/realism/465.jpg\n",
      "Error downloading or resizing /Users/caionunez/Desktop/cnn_model/dataset/train/realism/326.jpg\n",
      "Error downloading or resizing /Users/caionunez/Desktop/cnn_model/dataset/train/realism/1329.jpg\n",
      "Error downloading or resizing /Users/caionunez/Desktop/cnn_model/dataset/train/realism/370.jpg\n",
      "Error downloading or resizing /Users/caionunez/Desktop/cnn_model/dataset/train/realism/1211.jpg\n",
      "Error downloading or resizing /Users/caionunez/Desktop/cnn_model/dataset/train/realism/96.jpg\n",
      "Error downloading or resizing /Users/caionunez/Desktop/cnn_model/dataset/train/realism/930.jpg\n",
      "Error downloading or resizing /Users/caionunez/Desktop/cnn_model/dataset/train/realism/1259.jpg\n",
      "Error downloading or resizing /Users/caionunez/Desktop/cnn_model/dataset/train/realism/1128.jpg\n",
      "Error downloading or resizing /Users/caionunez/Desktop/cnn_model/dataset/train/realism/1839.jpg\n",
      "Error downloading or resizing /Users/caionunez/Desktop/cnn_model/dataset/train/realism/842.jpg\n",
      "Error downloading or resizing /Users/caionunez/Desktop/cnn_model/dataset/train/realism/1160.jpg\n",
      "Error downloading or resizing /Users/caionunez/Desktop/cnn_model/dataset/train/realism/1521.jpg\n",
      "Error downloading or resizing /Users/caionunez/Desktop/cnn_model/dataset/train/realism/1729.jpg\n",
      "Error downloading or resizing /Users/caionunez/Desktop/cnn_model/dataset/train/realism/630.jpg\n",
      "Error downloading or resizing /Users/caionunez/Desktop/cnn_model/dataset/train/realism/1449.jpg\n",
      "Error downloading or resizing /Users/caionunez/Desktop/cnn_model/dataset/train/realism/1393.jpg\n",
      "Error downloading or resizing /Users/caionunez/Desktop/cnn_model/dataset/train/realism/1762.jpg\n",
      "Error downloading or resizing /Users/caionunez/Desktop/cnn_model/dataset/train/realism/1538.jpg\n",
      "Error downloading or resizing /Users/caionunez/Desktop/cnn_model/dataset/train/realism/1813.jpg\n",
      "Error downloading or resizing /Users/caionunez/Desktop/cnn_model/dataset/train/realism/257.jpg\n",
      "Error downloading or resizing /Users/caionunez/Desktop/cnn_model/dataset/train/realism/1070.jpg\n",
      "Error downloading or resizing /Users/caionunez/Desktop/cnn_model/dataset/train/realism/920.jpg\n",
      "Error downloading or resizing /Users/caionunez/Desktop/cnn_model/dataset/train/realism/1888.jpg\n",
      "Error downloading or resizing /Users/caionunez/Desktop/cnn_model/dataset/train/realism/658.jpg\n",
      "Error downloading or resizing /Users/caionunez/Desktop/cnn_model/dataset/train/realism/1388.jpg\n",
      "Error downloading or resizing /Users/caionunez/Desktop/cnn_model/dataset/train/realism/1060.jpg\n",
      "Error downloading or resizing /Users/caionunez/Desktop/cnn_model/dataset/train/realism/1846.jpg\n",
      "Error downloading or resizing /Users/caionunez/Desktop/cnn_model/dataset/train/realism/1153.jpg\n",
      "Error downloading or resizing /Users/caionunez/Desktop/cnn_model/dataset/train/realism/1409.jpg\n",
      "Error downloading or resizing /Users/caionunez/Desktop/cnn_model/dataset/train/realism/1382.jpg\n",
      "Error downloading or resizing /Users/caionunez/Desktop/cnn_model/dataset/train/realism/1194.jpg\n",
      "Error downloading or resizing /Users/caionunez/Desktop/cnn_model/dataset/train/realism/206.jpg\n",
      "Error downloading or resizing /Users/caionunez/Desktop/cnn_model/dataset/train/realism/378.jpg\n",
      "Error downloading or resizing /Users/caionunez/Desktop/cnn_model/dataset/train/realism/1411.jpg\n",
      "Error downloading or resizing /Users/caionunez/Desktop/cnn_model/dataset/train/realism/805.jpg\n",
      "Error downloading or resizing /Users/caionunez/Desktop/cnn_model/dataset/train/realism/1044.jpg\n"
     ]
    }
   ],
   "source": [
    "# Realism train\n",
    "\n",
    "# Loop through each row in the csv file\n",
    "for index, row in realism_train.iterrows():\n",
    "    \n",
    "    # Get the URL and tattoo style from the row\n",
    "    url = row['image_url']\n",
    "\n",
    "    # Create directory for the current style if it does not exist\n",
    "    style_dir = \"/Users/caionunez/Desktop/cnn_model/dataset/train/realism\"\n",
    "\n",
    "    # Get the filename for the downloaded image\n",
    "    filename = f'{style_dir}/{index}.jpg'\n",
    "\n",
    "    # Download and resize the image\n",
    "    download_resize_image(url, filename)"
   ]
  },
  {
   "cell_type": "code",
   "execution_count": 29,
   "id": "bcaa478a",
   "metadata": {},
   "outputs": [
    {
     "name": "stdout",
     "output_type": "stream",
     "text": [
      "Error downloading or resizing /Users/caionunez/Desktop/cnn_model/dataset/test/realism/904.jpg\n",
      "Error downloading or resizing /Users/caionunez/Desktop/cnn_model/dataset/test/realism/1867.jpg\n",
      "Error downloading or resizing /Users/caionunez/Desktop/cnn_model/dataset/test/realism/342.jpg\n",
      "Error downloading or resizing /Users/caionunez/Desktop/cnn_model/dataset/test/realism/394.jpg\n",
      "Error downloading or resizing /Users/caionunez/Desktop/cnn_model/dataset/test/realism/1234.jpg\n",
      "Error downloading or resizing /Users/caionunez/Desktop/cnn_model/dataset/test/realism/543.jpg\n",
      "Error downloading or resizing /Users/caionunez/Desktop/cnn_model/dataset/test/realism/1581.jpg\n",
      "Error downloading or resizing /Users/caionunez/Desktop/cnn_model/dataset/test/realism/583.jpg\n",
      "Error downloading or resizing /Users/caionunez/Desktop/cnn_model/dataset/test/realism/1132.jpg\n",
      "Error downloading or resizing /Users/caionunez/Desktop/cnn_model/dataset/test/realism/741.jpg\n",
      "Error downloading or resizing /Users/caionunez/Desktop/cnn_model/dataset/test/realism/905.jpg\n",
      "Error downloading or resizing /Users/caionunez/Desktop/cnn_model/dataset/test/realism/124.jpg\n",
      "Error downloading or resizing /Users/caionunez/Desktop/cnn_model/dataset/test/realism/1236.jpg\n",
      "Error downloading or resizing /Users/caionunez/Desktop/cnn_model/dataset/test/realism/1542.jpg\n",
      "Error downloading or resizing /Users/caionunez/Desktop/cnn_model/dataset/test/realism/1185.jpg\n",
      "Error downloading or resizing /Users/caionunez/Desktop/cnn_model/dataset/test/realism/1301.jpg\n"
     ]
    }
   ],
   "source": [
    "## Realism test\n",
    "\n",
    "# Loop through each row in the csv file\n",
    "for index, row in realism_test.iterrows():\n",
    "    \n",
    "    # Get the URL and tattoo style from the row\n",
    "    url = row['image_url']\n",
    "\n",
    "    # Create directory for the current style if it does not exist\n",
    "    style_dir = \"/Users/caionunez/Desktop/cnn_model/dataset/test/realism\"\n",
    "\n",
    "    # Get the filename for the downloaded image\n",
    "    filename = f'{style_dir}/{index}.jpg'\n",
    "\n",
    "    # Download and resize the image\n",
    "    download_resize_image(url, filename)"
   ]
  },
  {
   "cell_type": "markdown",
   "id": "50804a35",
   "metadata": {},
   "source": [
    "### Blackwork"
   ]
  },
  {
   "cell_type": "code",
   "execution_count": 30,
   "id": "8c7fc853",
   "metadata": {},
   "outputs": [
    {
     "name": "stdout",
     "output_type": "stream",
     "text": [
      "Error downloading or resizing /Users/caionunez/Desktop/cnn_model/dataset/train/blackwork/1395.jpg\n",
      "Error downloading or resizing /Users/caionunez/Desktop/cnn_model/dataset/train/blackwork/426.jpg\n",
      "Error downloading or resizing /Users/caionunez/Desktop/cnn_model/dataset/train/blackwork/701.jpg\n",
      "Error downloading or resizing /Users/caionunez/Desktop/cnn_model/dataset/train/blackwork/292.jpg\n",
      "Error downloading or resizing /Users/caionunez/Desktop/cnn_model/dataset/train/blackwork/175.jpg\n",
      "Error downloading or resizing /Users/caionunez/Desktop/cnn_model/dataset/train/blackwork/926.jpg\n",
      "Error downloading or resizing /Users/caionunez/Desktop/cnn_model/dataset/train/blackwork/939.jpg\n",
      "Error downloading or resizing /Users/caionunez/Desktop/cnn_model/dataset/train/blackwork/1161.jpg\n",
      "Error downloading or resizing /Users/caionunez/Desktop/cnn_model/dataset/train/blackwork/148.jpg\n",
      "Error downloading or resizing /Users/caionunez/Desktop/cnn_model/dataset/train/blackwork/1103.jpg\n",
      "Error downloading or resizing /Users/caionunez/Desktop/cnn_model/dataset/train/blackwork/358.jpg\n",
      "Error downloading or resizing /Users/caionunez/Desktop/cnn_model/dataset/train/blackwork/1454.jpg\n",
      "Error downloading or resizing /Users/caionunez/Desktop/cnn_model/dataset/train/blackwork/209.jpg\n",
      "Error downloading or resizing /Users/caionunez/Desktop/cnn_model/dataset/train/blackwork/421.jpg\n",
      "Error downloading or resizing /Users/caionunez/Desktop/cnn_model/dataset/train/blackwork/649.jpg\n",
      "Error downloading or resizing /Users/caionunez/Desktop/cnn_model/dataset/train/blackwork/442.jpg\n",
      "Error downloading or resizing /Users/caionunez/Desktop/cnn_model/dataset/train/blackwork/281.jpg\n",
      "Error downloading or resizing /Users/caionunez/Desktop/cnn_model/dataset/train/blackwork/553.jpg\n",
      "Error downloading or resizing /Users/caionunez/Desktop/cnn_model/dataset/train/blackwork/213.jpg\n",
      "Error downloading or resizing /Users/caionunez/Desktop/cnn_model/dataset/train/blackwork/267.jpg\n",
      "Error downloading or resizing /Users/caionunez/Desktop/cnn_model/dataset/train/blackwork/933.jpg\n",
      "Error downloading or resizing /Users/caionunez/Desktop/cnn_model/dataset/train/blackwork/1407.jpg\n",
      "Error downloading or resizing /Users/caionunez/Desktop/cnn_model/dataset/train/blackwork/108.jpg\n",
      "Error downloading or resizing /Users/caionunez/Desktop/cnn_model/dataset/train/blackwork/662.jpg\n",
      "Error downloading or resizing /Users/caionunez/Desktop/cnn_model/dataset/train/blackwork/417.jpg\n",
      "Error downloading or resizing /Users/caionunez/Desktop/cnn_model/dataset/train/blackwork/1672.jpg\n",
      "Error downloading or resizing /Users/caionunez/Desktop/cnn_model/dataset/train/blackwork/153.jpg\n",
      "Error downloading or resizing /Users/caionunez/Desktop/cnn_model/dataset/train/blackwork/1821.jpg\n",
      "Error downloading or resizing /Users/caionunez/Desktop/cnn_model/dataset/train/blackwork/1148.jpg\n",
      "Error downloading or resizing /Users/caionunez/Desktop/cnn_model/dataset/train/blackwork/469.jpg\n",
      "Error downloading or resizing /Users/caionunez/Desktop/cnn_model/dataset/train/blackwork/1250.jpg\n",
      "Error downloading or resizing /Users/caionunez/Desktop/cnn_model/dataset/train/blackwork/640.jpg\n",
      "Error downloading or resizing /Users/caionunez/Desktop/cnn_model/dataset/train/blackwork/1714.jpg\n",
      "Error downloading or resizing /Users/caionunez/Desktop/cnn_model/dataset/train/blackwork/392.jpg\n",
      "Error downloading or resizing /Users/caionunez/Desktop/cnn_model/dataset/train/blackwork/600.jpg\n"
     ]
    }
   ],
   "source": [
    "## Blackwork train\n",
    "\n",
    "# Loop through each row in the csv file\n",
    "for index, row in blackwork_train.iterrows():\n",
    "    \n",
    "    # Get the URL and tattoo style from the row\n",
    "    url = row['image_url']\n",
    "\n",
    "    # Create directory for the current style if it does not exist\n",
    "    style_dir = \"/Users/caionunez/Desktop/cnn_model/dataset/train/blackwork\"\n",
    "\n",
    "    # Get the filename for the downloaded image\n",
    "    filename = f'{style_dir}/{index}.jpg'\n",
    "\n",
    "    # Download and resize the image\n",
    "    download_resize_image(url, filename)"
   ]
  },
  {
   "cell_type": "code",
   "execution_count": 31,
   "id": "49a4835c",
   "metadata": {},
   "outputs": [
    {
     "name": "stdout",
     "output_type": "stream",
     "text": [
      "Error downloading or resizing /Users/caionunez/Desktop/cnn_model/dataset/test/blackwork/1326.jpg\n",
      "Error downloading or resizing /Users/caionunez/Desktop/cnn_model/dataset/test/blackwork/305.jpg\n",
      "Error downloading or resizing /Users/caionunez/Desktop/cnn_model/dataset/test/blackwork/316.jpg\n",
      "Error downloading or resizing /Users/caionunez/Desktop/cnn_model/dataset/test/blackwork/1837.jpg\n",
      "Error downloading or resizing /Users/caionunez/Desktop/cnn_model/dataset/test/blackwork/942.jpg\n"
     ]
    }
   ],
   "source": [
    "## Blackwork test\n",
    "\n",
    "# Loop through each row in the csv file\n",
    "for index, row in blackwork_test.iterrows():\n",
    "    \n",
    "    # Get the URL and tattoo style from the row\n",
    "    url = row['image_url']\n",
    "\n",
    "    # Create directory for the current style if it does not exist\n",
    "    style_dir = \"/Users/caionunez/Desktop/cnn_model/dataset/test/blackwork\"\n",
    "\n",
    "    # Get the filename for the downloaded image\n",
    "    filename = f'{style_dir}/{index}.jpg'\n",
    "\n",
    "    # Download and resize the image\n",
    "    download_resize_image(url, filename)"
   ]
  },
  {
   "cell_type": "markdown",
   "id": "ae923f4f",
   "metadata": {},
   "source": [
    "### Fineline"
   ]
  },
  {
   "cell_type": "code",
   "execution_count": 32,
   "id": "a085700a",
   "metadata": {},
   "outputs": [
    {
     "name": "stdout",
     "output_type": "stream",
     "text": [
      "Error downloading or resizing /Users/caionunez/Desktop/cnn_model/dataset/train/fineline/1593.jpg\n",
      "Error downloading or resizing /Users/caionunez/Desktop/cnn_model/dataset/train/fineline/422.jpg\n",
      "Error downloading or resizing /Users/caionunez/Desktop/cnn_model/dataset/train/fineline/909.jpg\n",
      "Error downloading or resizing /Users/caionunez/Desktop/cnn_model/dataset/train/fineline/1057.jpg\n",
      "Error downloading or resizing /Users/caionunez/Desktop/cnn_model/dataset/train/fineline/1333.jpg\n",
      "Error downloading or resizing /Users/caionunez/Desktop/cnn_model/dataset/train/fineline/84.jpg\n",
      "Error downloading or resizing /Users/caionunez/Desktop/cnn_model/dataset/train/fineline/1427.jpg\n",
      "Error downloading or resizing /Users/caionunez/Desktop/cnn_model/dataset/train/fineline/54.jpg\n",
      "Error downloading or resizing /Users/caionunez/Desktop/cnn_model/dataset/train/fineline/669.jpg\n",
      "Error downloading or resizing /Users/caionunez/Desktop/cnn_model/dataset/train/fineline/1634.jpg\n",
      "Error downloading or resizing /Users/caionunez/Desktop/cnn_model/dataset/train/fineline/754.jpg\n",
      "Error downloading or resizing /Users/caionunez/Desktop/cnn_model/dataset/train/fineline/1794.jpg\n",
      "Error downloading or resizing /Users/caionunez/Desktop/cnn_model/dataset/train/fineline/578.jpg\n",
      "Error downloading or resizing /Users/caionunez/Desktop/cnn_model/dataset/train/fineline/1463.jpg\n",
      "Error downloading or resizing /Users/caionunez/Desktop/cnn_model/dataset/train/fineline/222.jpg\n",
      "Error downloading or resizing /Users/caionunez/Desktop/cnn_model/dataset/train/fineline/842.jpg\n",
      "Error downloading or resizing /Users/caionunez/Desktop/cnn_model/dataset/train/fineline/424.jpg\n",
      "Error downloading or resizing /Users/caionunez/Desktop/cnn_model/dataset/train/fineline/1557.jpg\n",
      "Error downloading or resizing /Users/caionunez/Desktop/cnn_model/dataset/train/fineline/1302.jpg\n",
      "Error downloading or resizing /Users/caionunez/Desktop/cnn_model/dataset/train/fineline/665.jpg\n",
      "Error downloading or resizing /Users/caionunez/Desktop/cnn_model/dataset/train/fineline/137.jpg\n",
      "Error downloading or resizing /Users/caionunez/Desktop/cnn_model/dataset/train/fineline/1441.jpg\n",
      "Error downloading or resizing /Users/caionunez/Desktop/cnn_model/dataset/train/fineline/386.jpg\n",
      "Error downloading or resizing /Users/caionunez/Desktop/cnn_model/dataset/train/fineline/491.jpg\n",
      "Error downloading or resizing /Users/caionunez/Desktop/cnn_model/dataset/train/fineline/1042.jpg\n",
      "Error downloading or resizing /Users/caionunez/Desktop/cnn_model/dataset/train/fineline/36.jpg\n",
      "Error downloading or resizing /Users/caionunez/Desktop/cnn_model/dataset/train/fineline/412.jpg\n",
      "Error downloading or resizing /Users/caionunez/Desktop/cnn_model/dataset/train/fineline/1676.jpg\n",
      "Error downloading or resizing /Users/caionunez/Desktop/cnn_model/dataset/train/fineline/685.jpg\n",
      "Error downloading or resizing /Users/caionunez/Desktop/cnn_model/dataset/train/fineline/1881.jpg\n",
      "Error downloading or resizing /Users/caionunez/Desktop/cnn_model/dataset/train/fineline/1250.jpg\n",
      "Error downloading or resizing /Users/caionunez/Desktop/cnn_model/dataset/train/fineline/403.jpg\n",
      "Error downloading or resizing /Users/caionunez/Desktop/cnn_model/dataset/train/fineline/1824.jpg\n",
      "Error downloading or resizing /Users/caionunez/Desktop/cnn_model/dataset/train/fineline/8.jpg\n",
      "Error downloading or resizing /Users/caionunez/Desktop/cnn_model/dataset/train/fineline/1257.jpg\n",
      "Error downloading or resizing /Users/caionunez/Desktop/cnn_model/dataset/train/fineline/1430.jpg\n",
      "Error downloading or resizing /Users/caionunez/Desktop/cnn_model/dataset/train/fineline/742.jpg\n",
      "Error downloading or resizing /Users/caionunez/Desktop/cnn_model/dataset/train/fineline/385.jpg\n",
      "Error downloading or resizing /Users/caionunez/Desktop/cnn_model/dataset/train/fineline/1130.jpg\n"
     ]
    }
   ],
   "source": [
    "## Fineline train\n",
    "\n",
    "# Loop through each row in the csv file\n",
    "for index, row in fineline_train.iterrows():\n",
    "    \n",
    "    # Get the URL and tattoo style from the row\n",
    "    url = row['image_url']\n",
    "\n",
    "    # Create directory for the current style if it does not exist\n",
    "    style_dir = \"/Users/caionunez/Desktop/cnn_model/dataset/train/fineline\"\n",
    "\n",
    "    # Get the filename for the downloaded image\n",
    "    filename = f'{style_dir}/{index}.jpg'\n",
    "\n",
    "    # Download and resize the image\n",
    "    download_resize_image(url, filename)"
   ]
  },
  {
   "cell_type": "code",
   "execution_count": 33,
   "id": "43b6ae8e",
   "metadata": {},
   "outputs": [
    {
     "name": "stdout",
     "output_type": "stream",
     "text": [
      "Error downloading or resizing /Users/caionunez/Desktop/cnn_model/dataset/test/fineline/1043.jpg\n",
      "Error downloading or resizing /Users/caionunez/Desktop/cnn_model/dataset/test/fineline/527.jpg\n",
      "Error downloading or resizing /Users/caionunez/Desktop/cnn_model/dataset/test/fineline/109.jpg\n",
      "Error downloading or resizing /Users/caionunez/Desktop/cnn_model/dataset/test/fineline/700.jpg\n",
      "Error downloading or resizing /Users/caionunez/Desktop/cnn_model/dataset/test/fineline/1688.jpg\n",
      "Error downloading or resizing /Users/caionunez/Desktop/cnn_model/dataset/test/fineline/1477.jpg\n"
     ]
    }
   ],
   "source": [
    "## Fineline test\n",
    "\n",
    "# Loop through each row in the csv file\n",
    "for index, row in fineline_test.iterrows():\n",
    "    \n",
    "    # Get the URL and tattoo style from the row\n",
    "    url = row['image_url']\n",
    "\n",
    "    # Create directory for the current style if it does not exist\n",
    "    style_dir = \"/Users/caionunez/Desktop/cnn_model/dataset/test/fineline\"\n",
    "\n",
    "    # Get the filename for the downloaded image\n",
    "    filename = f'{style_dir}/{index}.jpg'\n",
    "\n",
    "    # Download and resize the image\n",
    "    download_resize_image(url, filename)"
   ]
  },
  {
   "cell_type": "code",
   "execution_count": null,
   "id": "403855d8",
   "metadata": {},
   "outputs": [],
   "source": []
  }
 ],
 "metadata": {
  "kernelspec": {
   "display_name": "Python 3 (ipykernel)",
   "language": "python",
   "name": "python3"
  },
  "language_info": {
   "codemirror_mode": {
    "name": "ipython",
    "version": 3
   },
   "file_extension": ".py",
   "mimetype": "text/x-python",
   "name": "python",
   "nbconvert_exporter": "python",
   "pygments_lexer": "ipython3",
   "version": "3.9.13"
  }
 },
 "nbformat": 4,
 "nbformat_minor": 5
}
